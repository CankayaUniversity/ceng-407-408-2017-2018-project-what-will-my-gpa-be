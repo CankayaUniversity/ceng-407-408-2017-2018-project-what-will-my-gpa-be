{
 "cells": [
  {
   "cell_type": "code",
   "execution_count": 101,
   "metadata": {
    "scrolled": false
   },
   "outputs": [],
   "source": [
    "import csv\n",
    "import pandas as pd\n",
    "#Efnan Gülkanat\n",
    "grades= pd.read_csv('grade_sample.csv')\n",
    "grades.sort_values(\"StudID\", inplace=True)\n",
    "grades['CourseCode'] = grades['CourseCode'].apply(str)+ grades['CourseNum'].apply(str)\n",
    "result=grades.drop(grades.columns[[2,3]], axis=1)\n",
    "vector=result.pivot_table(values='Grade', index='StudID', columns='CourseCode', aggfunc='first')\n",
    "\n",
    "students=pd.read_csv('student_sample.csv')\n",
    "students.sort_values(\"StudID\", inplace=True)\n",
    "\n",
    "vector['GPA']=students['Avg'].values\n",
    "\n",
    "row,column=vector.shape\n",
    "for i in range(row):\n",
    "    for j in range(column):\n",
    "        if vector.iloc[i,j]==\"AA\":\n",
    "            vector.iloc[i,j]=4.0\n",
    "        if vector.iloc[i,j]==\"BA\":\n",
    "            vector.iloc[i,j]=3.5\n",
    "        if vector.iloc[i,j]==\"BB\":\n",
    "            vector.iloc[i,j]=3.0\n",
    "        if vector.iloc[i,j]==\"CB\":\n",
    "            vector.iloc[i,j]=2.5\n",
    "        if vector.iloc[i,j]==\"CC\":\n",
    "            vector.iloc[i,j]=2.0\n",
    "        if vector.iloc[i,j]==\"DC\":\n",
    "            vector.iloc[i,j]=1.5\n",
    "        if vector.iloc[i,j]==\"DD\":\n",
    "            vector.iloc[i,j]=1.0\n",
    "        if vector.iloc[i,j]==\"FD\":\n",
    "            vector.iloc[i,j]=0.5\n",
    "        if vector.iloc[i,j]==\"FF\":\n",
    "            vector.iloc[i,j]=0      \n",
    "                       "
   ]
  },
  {
   "cell_type": "code",
   "execution_count": null,
   "metadata": {},
   "outputs": [],
   "source": []
  }
 ],
 "metadata": {
  "kernelspec": {
   "display_name": "Python 3",
   "language": "python",
   "name": "python3"
  },
  "language_info": {
   "codemirror_mode": {
    "name": "ipython",
    "version": 3
   },
   "file_extension": ".py",
   "mimetype": "text/x-python",
   "name": "python",
   "nbconvert_exporter": "python",
   "pygments_lexer": "ipython3",
   "version": "3.6.4"
  }
 },
 "nbformat": 4,
 "nbformat_minor": 2
}
